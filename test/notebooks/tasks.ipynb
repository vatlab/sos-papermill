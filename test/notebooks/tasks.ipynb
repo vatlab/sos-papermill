{
 "cells": [
  {
   "cell_type": "code",
   "execution_count": 3,
   "metadata": {
    "kernel": "SoS"
   },
   "outputs": [
    {
     "data": {
      "text/html": [
       "\n",
       "<table id=\"task_macpro_f152cccfd778561c_a3081b0f082345fe81fca84729cbcef7\" class=\"task_table submitted\">\n",
       "<tr>\n",
       "    <td class=\"task_icon\">\n",
       "      <i id=\"task_status_icon_macpro_f152cccfd778561c_a3081b0f082345fe81fca84729cbcef7\" class=\"fa fa-2x fa-fw fa-spinner\"</i>\n",
       "    </td>\n",
       "    <td class=\"task_id\">\n",
       "      <span><pre><i class=\"fa fa-fw fa-sitemap\"></i></pre><pre>f152cccfd778561c<div class=\"task_id_actions\"><i class=\"fa fa-fw fa-refresh\" onclick=\"task_action({action:'status', task:'f152cccfd778561c', queue: 'macpro'})\"></i><i class=\"fa fa-fw fa-play\" onclick=\"task_action({action:'execute', task:'f152cccfd778561c', queue: 'macpro'})\"></i><i class=\"fa fa-fw fa-stop\"\" onclick=\"task_action({action:'kill', task:'f152cccfd778561c', queue: 'macpro'})\"></i><i class=\"fa fa-fw fa-trash\"\" onclick=\"task_action({action:'purge', task:'f152cccfd778561c', queue: 'macpro'})\"></i></div></pre></span>\n",
       "    </td>\n",
       "    <td class=\"task_tags\">\n",
       "      <span id=\"status_tags_macpro_f152cccfd778561c_a3081b0f082345fe81fca84729cbcef7\"><pre><i class=\"fa fa-fw fa-info-circle\"></i></pre><pre class=\"task_tags task_tag_feffa6112e70756e\">feffa6112e70756e<div class=\"task_tag_actions\"><i class=\"fa fa-fw fa-refresh\" onclick=\"task_action({action:'status', tag:'feffa6112e70756e', queue: 'macpro'})\"></i><i class=\"fa fa-fw fa-stop\"\" onclick=\"task_action({action:'kill', tag:'feffa6112e70756e', queue: 'macpro'})\"></i><i class=\"fa fa-fw fa-trash\"\" onclick=\"task_action({action:'purge', tag:'feffa6112e70756e', queue: 'macpro'})\"></i></div></pre><pre class=\"task_tags task_tag_scratch_0\">scratch_0<div class=\"task_tag_actions\"><i class=\"fa fa-fw fa-refresh\" onclick=\"task_action({action:'status', tag:'scratch_0', queue: 'macpro'})\"></i><i class=\"fa fa-fw fa-stop\"\" onclick=\"task_action({action:'kill', tag:'scratch_0', queue: 'macpro'})\"></i><i class=\"fa fa-fw fa-trash\"\" onclick=\"task_action({action:'purge', tag:'scratch_0', queue: 'macpro'})\"></i></div></pre></span>\n",
       "    </td>\n",
       "    <td class=\"task_timer\">\n",
       "      <pre><i class=\"fa fa-fw fa-clock-o\"></i><time id=\"status_duration_macpro_f152cccfd778561c_a3081b0f082345fe81fca84729cbcef7\" class=\"submitted\" datetime=\"undefined\"></time></pre>\n",
       "    </td>\n",
       "    <td class=\"task_status\">\n",
       "      <pre><i class=\"fa fa-fw fa-tasks\"></i><span id=\"status_text_macpro_f152cccfd778561c_a3081b0f082345fe81fca84729cbcef7\">submitted</span></pre>\n",
       "    </td>\n",
       "</tr>\n",
       "</table>\n"
      ]
     },
     "metadata": {},
     "output_type": "display_data"
    }
   ],
   "source": [
    "task: queue='localhost'\n",
    "print(1)"
   ]
  },
  {
   "cell_type": "code",
   "execution_count": 4,
   "metadata": {
    "kernel": "SoS"
   },
   "outputs": [
    {
     "data": {
      "text/html": [
       "\n",
       "<table id=\"task_macpro_9b65795d77cb88b1_88e995ff088d471799e2b5b6624ca38c\" class=\"task_table completed\">\n",
       "<tr>\n",
       "    <td class=\"task_icon\">\n",
       "      <i id=\"task_status_icon_macpro_9b65795d77cb88b1_88e995ff088d471799e2b5b6624ca38c\" class=\"fa fa-2x fa-fw fa-check-square-o\"</i>\n",
       "    </td>\n",
       "    <td class=\"task_id\">\n",
       "      <span><pre><i class=\"fa fa-fw fa-sitemap\"></i></pre><pre>9b65795d77cb88b1<div class=\"task_id_actions\"><i class=\"fa fa-fw fa-refresh\" onclick=\"task_action({action:'status', task:'9b65795d77cb88b1', queue: 'macpro'})\"></i><i class=\"fa fa-fw fa-play\" onclick=\"task_action({action:'execute', task:'9b65795d77cb88b1', queue: 'macpro'})\"></i><i class=\"fa fa-fw fa-stop\"\" onclick=\"task_action({action:'kill', task:'9b65795d77cb88b1', queue: 'macpro'})\"></i><i class=\"fa fa-fw fa-trash\"\" onclick=\"task_action({action:'purge', task:'9b65795d77cb88b1', queue: 'macpro'})\"></i></div></pre></span>\n",
       "    </td>\n",
       "    <td class=\"task_tags\">\n",
       "      <span id=\"status_tags_macpro_9b65795d77cb88b1_88e995ff088d471799e2b5b6624ca38c\"><pre><i class=\"fa fa-fw fa-info-circle\"></i></pre><pre class=\"task_tags task_tag_65e35af11b832703\">65e35af11b832703<div class=\"task_tag_actions\"><i class=\"fa fa-fw fa-refresh\" onclick=\"task_action({action:'status', tag:'65e35af11b832703', queue: 'macpro'})\"></i><i class=\"fa fa-fw fa-stop\"\" onclick=\"task_action({action:'kill', tag:'65e35af11b832703', queue: 'macpro'})\"></i><i class=\"fa fa-fw fa-trash\"\" onclick=\"task_action({action:'purge', tag:'65e35af11b832703', queue: 'macpro'})\"></i></div></pre><pre class=\"task_tags task_tag_default\">default<div class=\"task_tag_actions\"><i class=\"fa fa-fw fa-refresh\" onclick=\"task_action({action:'status', tag:'default', queue: 'macpro'})\"></i><i class=\"fa fa-fw fa-stop\"\" onclick=\"task_action({action:'kill', tag:'default', queue: 'macpro'})\"></i><i class=\"fa fa-fw fa-trash\"\" onclick=\"task_action({action:'purge', tag:'default', queue: 'macpro'})\"></i></div></pre></span>\n",
       "    </td>\n",
       "    <td class=\"task_timer\">\n",
       "      <pre><i class=\"fa fa-fw fa-clock-o\"></i><time id=\"status_duration_macpro_9b65795d77cb88b1_88e995ff088d471799e2b5b6624ca38c\" class=\"completed\" datetime=\"1568825664220.359\">Ran for < 5 seconds</time></pre>\n",
       "    </td>\n",
       "    <td class=\"task_status\">\n",
       "      <pre><i class=\"fa fa-fw fa-tasks\"></i><span id=\"status_text_macpro_9b65795d77cb88b1_88e995ff088d471799e2b5b6624ca38c\">completed</span></pre>\n",
       "    </td>\n",
       "</tr>\n",
       "</table>\n"
      ]
     },
     "metadata": {},
     "output_type": "display_data"
    },
    {
     "name": "stdout",
     "output_type": "stream",
     "text": [
      "INFO: 9b65795d77cb88b1 \u001b[32mstarted\u001b[0m\n"
     ]
    }
   ],
   "source": [
    "%run -q localhost\n",
    "task:\n",
    "print(2)"
   ]
  },
  {
   "cell_type": "code",
   "execution_count": null,
   "metadata": {
    "kernel": "SoS"
   },
   "outputs": [],
   "source": []
  }
 ],
 "metadata": {
  "kernelspec": {
   "display_name": "SoS",
   "language": "sos",
   "name": "sos"
  },
  "language_info": {
   "codemirror_mode": "sos",
   "file_extension": ".sos",
   "mimetype": "text/x-sos",
   "name": "sos",
   "nbconvert_exporter": "sos_notebook.converter.SoS_Exporter",
   "pygments_lexer": "sos"
  },
  "sos": {
   "kernels": [],
   "panel": {
    "displayed": true,
    "height": 0
   },
   "version": "0.20.5"
  }
 },
 "nbformat": 4,
 "nbformat_minor": 2
}
